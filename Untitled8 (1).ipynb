{
 "cells": [
  {
   "cell_type": "code",
   "execution_count": 8,
   "id": "79309322-4e3b-48de-8d4a-f867a1db77c2",
   "metadata": {},
   "outputs": [],
   "source": [
    "using LinearAlgebra,CSV, DataFrames"
   ]
  },
  {
   "cell_type": "code",
   "execution_count": 9,
   "id": "6f9a2858-4878-4078-b362-ea8f73d8c421",
   "metadata": {},
   "outputs": [],
   "source": [
    "retail = \"C:/Users/gap_a/Documents/MIT/OPT/project/generated_data_complete.csv\"\n",
    "retail = DataFrame(CSV.File(retail));\n",
    "num_rows = size(retail)[1] # 676\n",
    "num_product = length(unique(retail[!,\"product_id\"])) # 52\n",
    "demand = retail[!,\"customers\"]\n",
    "cost = retail[!,\"freight_price\"]\n",
    "\n",
    "C1 = retail[!,\"comp_1\"]\n",
    "C2 = retail[!,\"comp_2\"]\n",
    "C3 = retail[!,\"comp_3\"]\n",
    "\n",
    "com1_cost = retail[!,\"fp1\"]\n",
    "com2_cost = retail[!,\"fp2\"]\n",
    "com3_cost = retail[!,\"fp3\"];"
   ]
  },
  {
   "cell_type": "code",
   "execution_count": 10,
   "id": "352fd356-2992-4ef9-8860-5b7c31b1e16e",
   "metadata": {},
   "outputs": [],
   "source": [
    "demand = reshape(demand, 12, 39)  # Reshape by column (12 columns, 39 rows)\n",
    "demand = permutedims(demand)  # Reshape by row\n",
    "\n",
    "cost = reshape(cost, 12, 39)  # Reshape by column (12 columns, 39 rows)\n",
    "cost = permutedims(cost)  # Reshape by row\n",
    "\n",
    "C1 = reshape(C1, 12, 39)  # Reshape by column (12 columns, 39 rows)\n",
    "C1 = permutedims(C1)  # Reshape by row\n",
    "\n",
    "C2 = reshape(C2, 12, 39)  # Reshape by column (12 columns, 39 rows)\n",
    "C2 = permutedims(C2)  # Reshape by row\n",
    "\n",
    "C3 = reshape(C3, 12, 39)  # Reshape by column (12 columns, 39 rows)\n",
    "C3 = permutedims(C3);  # Reshape by row"
   ]
  },
  {
   "cell_type": "code",
   "execution_count": 210,
   "id": "5867e3fb-aaa0-40bf-863f-331390c6e6e0",
   "metadata": {},
   "outputs": [],
   "source": [
    "c= geting_cost(C1[2,:],C2[2,:],C3[2,:]);\n",
    "l=cost[2, :]\n",
    "d=demand[2, :];"
   ]
  },
  {
   "cell_type": "code",
   "execution_count": 19,
   "id": "f36c3838-3595-4f3d-b3af-6f7d83ddb52c",
   "metadata": {},
   "outputs": [
    {
     "data": {
      "text/plain": [
       "geting_cost (generic function with 1 method)"
      ]
     },
     "execution_count": 19,
     "metadata": {},
     "output_type": "execute_result"
    }
   ],
   "source": [
    "function geting_cost(C1,C2,C3)\n",
    "        average_cost = (C1 .+ C2 .+ C3) ./ 3\n",
    "    return average_cost\n",
    "end"
   ]
  },
  {
   "cell_type": "code",
   "execution_count": 30,
   "id": "4cbd1ebe-ce4c-4748-993a-0c303052759a",
   "metadata": {},
   "outputs": [
    {
     "data": {
      "text/plain": [
       "constraint_ineq (generic function with 1 method)"
      ]
     },
     "execution_count": 30,
     "metadata": {},
     "output_type": "execute_result"
    }
   ],
   "source": [
    "# Constraint: x[t] - 1.05 * x[t-1] <= 0\n",
    "function constraint_ineq(x)\n",
    "    constraints = []\n",
    "    for i in 2:length(x)\n",
    "        push!(constraints, x[i] - 1.05 * x[i-1])\n",
    "    end\n",
    "    return constraints\n",
    "end"
   ]
  },
  {
   "cell_type": "code",
   "execution_count": 31,
   "id": "a7409ebe-6780-4012-a03e-ec4c602f5a25",
   "metadata": {},
   "outputs": [
    {
     "data": {
      "text/plain": [
       "constraint_x_positive (generic function with 1 method)"
      ]
     },
     "execution_count": 31,
     "metadata": {},
     "output_type": "execute_result"
    }
   ],
   "source": [
    "# Constraint: x >= 0\n",
    "function constraint_x_positive(x)\n",
    "    return x\n",
    "end"
   ]
  },
  {
   "cell_type": "code",
   "execution_count": 147,
   "id": "40b5231c-5180-4fe8-9e3c-5e9311966bf9",
   "metadata": {},
   "outputs": [
    {
     "data": {
      "text/plain": [
       "gradient_f (generic function with 2 methods)"
      ]
     },
     "execution_count": 147,
     "metadata": {},
     "output_type": "execute_result"
    }
   ],
   "source": [
    "# Gradient computation\n",
    "function gradient_f(x, l, d, c)\n",
    "    grad = similar(x)\n",
    "    for i in eachindex(x)\n",
    "        grad[i] = (d[i]*exp(-2x[i]/c[i])*(c[i]+2l[i]-2x[i]))/c[i]^2\n",
    "    end\n",
    "    #print(\"endgrad\")\n",
    "    return grad\n",
    "end"
   ]
  },
  {
   "cell_type": "code",
   "execution_count": 232,
   "id": "d393ccef-57df-4b76-9d5e-c91008fa7baa",
   "metadata": {},
   "outputs": [
    {
     "data": {
      "text/plain": [
       "gradient_g (generic function with 1 method)"
      ]
     },
     "execution_count": 232,
     "metadata": {},
     "output_type": "execute_result"
    }
   ],
   "source": [
    "function gradient_g(x,mu)\n",
    "    grad = similar(x)\n",
    "    for i in eachindex(x)\n",
    "        if i ==1\n",
    "            grad[i] = +mu*((1/x[i])) #change first minus back\n",
    "        else\n",
    "            grad[i] = +mu*((1/x[i])-1/(1.05x[i-1]-x[i]))\n",
    "        end\n",
    "    end\n",
    "    #print(\"endgrad\")\n",
    "    return grad\n",
    "end"
   ]
  },
  {
   "cell_type": "code",
   "execution_count": null,
   "id": "f5c58b30-0f0f-4642-b576-58f53cc9318f",
   "metadata": {},
   "outputs": [],
   "source": []
  },
  {
   "cell_type": "code",
   "execution_count": 180,
   "id": "99ed8389-5261-474d-8edb-59e4a713ef3d",
   "metadata": {},
   "outputs": [
    {
     "data": {
      "text/plain": [
       "gradient_2_f (generic function with 2 methods)"
      ]
     },
     "execution_count": 180,
     "metadata": {},
     "output_type": "execute_result"
    }
   ],
   "source": [
    "function gradient_2_f(x, l, d, c)\n",
    "    grad = similar(x)\n",
    "    for i in eachindex(x)\n",
    "        grad[i] = (4*d[i]*exp(-2x[i]/c[i])*(c[i]+l[i]-x[i]))/c[i]^2\n",
    "    end\n",
    "    #print(\"endgrad\")\n",
    "    return grad\n",
    "end"
   ]
  },
  {
   "cell_type": "code",
   "execution_count": 233,
   "id": "bdcb69cf-dbcf-477d-8be5-c17d5f0d6f2f",
   "metadata": {},
   "outputs": [
    {
     "data": {
      "text/plain": [
       "gradient_2_g (generic function with 1 method)"
      ]
     },
     "execution_count": 233,
     "metadata": {},
     "output_type": "execute_result"
    }
   ],
   "source": [
    "function gradient_2_g(x,mu)\n",
    "    grad = similar(x)\n",
    "    for i in eachindex(x)\n",
    "        if i ==1\n",
    "            grad[i] = +mu*((1/x[i])^2)\n",
    "        else\n",
    "            grad[i] = +mu*((1/x[i])^2-1/(1.05x[i-1]-x[i])^2)\n",
    "        end\n",
    "    end\n",
    "    #print(\"endgrad\")\n",
    "    return grad\n",
    "end"
   ]
  },
  {
   "cell_type": "code",
   "execution_count": 155,
   "id": "b74aa306-097a-452e-bfea-4b2f8b6eb29b",
   "metadata": {},
   "outputs": [
    {
     "data": {
      "text/plain": [
       "objective_function (generic function with 1 method)"
      ]
     },
     "execution_count": 155,
     "metadata": {},
     "output_type": "execute_result"
    }
   ],
   "source": [
    "# Objective function: f(x) = (x - l) * d * (exp(-x / c))^2\n",
    "function objective_function(x, l, d, c)\n",
    "    result = 0\n",
    "    for i in eachindex(x)\n",
    "        result += (x[i] - l[i]) * d[i] * (exp(-x[i] / c[i]))^2\n",
    "    end\n",
    "    return result\n",
    "end"
   ]
  },
  {
   "cell_type": "code",
   "execution_count": 143,
   "id": "860d19a8-84f2-4505-83a6-65aaeca15da9",
   "metadata": {},
   "outputs": [
    {
     "data": {
      "text/plain": [
       "hessian (generic function with 5 methods)"
      ]
     },
     "execution_count": 143,
     "metadata": {},
     "output_type": "execute_result"
    }
   ],
   "source": [
    "# Hessian computation\n",
    "function hessian(grad_2_f,grad_2_g)\n",
    "    #print(\" hes \")\n",
    "    n = length(grad_2_f)\n",
    "    hess = zeros(n, n)\n",
    "    for i in 1:n\n",
    "        for j in 1:n\n",
    "            if i==j\n",
    "            hess[i,j] = grad_2_f[i]+grad_2_g[i]\n",
    "            end\n",
    "        end\n",
    "    end\n",
    "    #print(\" hes_end \")\n",
    "    return hess\n",
    "end"
   ]
  },
  {
   "cell_type": "code",
   "execution_count": 149,
   "id": "7d8458a9-bb4e-47dc-9cfe-5dbf6b24feec",
   "metadata": {},
   "outputs": [
    {
     "data": {
      "text/plain": [
       "overall_gradient (generic function with 1 method)"
      ]
     },
     "execution_count": 149,
     "metadata": {},
     "output_type": "execute_result"
    }
   ],
   "source": [
    "# Hessian computation\n",
    "function overall_gradient(grad_f,grad_g)\n",
    "    grad = similar(grad_f)\n",
    "    n = length(grad)\n",
    "    for i in 1:n\n",
    "        grad[i] = grad_f[i]+grad_g[i]\n",
    "    end\n",
    "    #print(\" over-grad \")\n",
    "    return grad\n",
    "end"
   ]
  },
  {
   "cell_type": "code",
   "execution_count": 234,
   "id": "653a6030-528c-4d5b-a7af-bed9f2edeb5b",
   "metadata": {},
   "outputs": [
    {
     "name": "stdout",
     "output_type": "stream",
     "text": [
      "[-2999.9999999999995, -142.85714285714286, -142.85714285714286, -142.85714285714286, -142.85714285714286, -142.85714285714286, -142.85714285714286, -142.85714285714286, -142.85714285714286, -142.85714285714286, -142.85714285714286, -142.85714285714286]\n",
      "[4.547473508864641e-13, 2857.1428571428573, 2857.1428571428573, 2857.1428571428573, 2857.1428571428573, 2857.1428571428573, 2857.1428571428573, 2857.1428571428573, 2857.1428571428573, 2857.1428571428573, 2857.1428571428573, 2857.1428571428573]\n",
      "[-4.547473508864641e-13, 2.6445252303578755e19, -136.05442176870773, -136.05442176870773, -136.05442176870773, -136.05442176870773, -136.05442176870773, -136.05442176870773, -136.05442176870773, -136.05442176870773, -136.05442176870773, -136.05442176870773]\n",
      "[0.0, 2.644525230357876e19, 2721.0884353741494, 2721.0884353741494, 2721.0884353741494, 2721.0884353741494, 2721.0884353741494, 2721.0884353741494, 2721.0884353741494, 2721.0884353741494, 2721.0884353741494, 2721.0884353741494]\n"
     ]
    },
    {
     "ename": "LoadError",
     "evalue": "LAPACKException(2)",
     "output_type": "error",
     "traceback": [
      "LAPACKException(2)",
      "",
      "Stacktrace:",
      " [1] chklapackerror",
      "   @ C:\\Users\\gap_a\\AppData\\Local\\Programs\\Julia-1.9.2\\share\\julia\\stdlib\\v1.9\\LinearAlgebra\\src\\lapack.jl:40 [inlined]",
      " [2] trtrs!(uplo::Char, trans::Char, diag::Char, A::Matrix{Float64}, B::Matrix{Float64})",
      "   @ LinearAlgebra.LAPACK C:\\Users\\gap_a\\AppData\\Local\\Programs\\Julia-1.9.2\\share\\julia\\stdlib\\v1.9\\LinearAlgebra\\src\\lapack.jl:3424",
      " [3] ldiv!",
      "   @ C:\\Users\\gap_a\\AppData\\Local\\Programs\\Julia-1.9.2\\share\\julia\\stdlib\\v1.9\\LinearAlgebra\\src\\triangular.jl:727 [inlined]",
      " [4] inv(A::UpperTriangular{Float64, Matrix{Float64}})",
      "   @ LinearAlgebra C:\\Users\\gap_a\\AppData\\Local\\Programs\\Julia-1.9.2\\share\\julia\\stdlib\\v1.9\\LinearAlgebra\\src\\triangular.jl:809",
      " [5] inv(A::Matrix{Float64})",
      "   @ LinearAlgebra C:\\Users\\gap_a\\AppData\\Local\\Programs\\Julia-1.9.2\\share\\julia\\stdlib\\v1.9\\LinearAlgebra\\src\\dense.jl:913",
      " [6] interior_point_newton(x0::Vector{Float64}, l::Vector{Float64}, d::Vector{Float64}, c::Vector{Float64}, tol::Float64, max_iter::Int64)",
      "   @ Main .\\In[234]:16",
      " [7] interior_point_newton(x0::Vector{Float64}, l::Vector{Float64}, d::Vector{Float64}, c::Vector{Float64})",
      "   @ Main .\\In[234]:3",
      " [8] top-level scope",
      "   @ In[234]:35"
     ]
    }
   ],
   "source": [
    "# Interior point Newton's method\n",
    "function interior_point_newton(x0, l, d, c, tol=1e-6, max_iter=100)\n",
    "    x = copy(x0)  # Initial feasible solution\n",
    "    mu = 10000000  # Penalty parameter\n",
    "    \n",
    "    for _ in 1:max_iter\n",
    "        # Augmented Lagrangian function\n",
    "        vector_f = gradient_f(x,l,d,c)\n",
    "        vector_b = gradient_g(x,mu)\n",
    "        vector_2_f = gradient_2_f(x,d,l,c)\n",
    "        vector_2_b = gradient_2_g(x,mu)\n",
    "        \n",
    "        hessian_mtx=hessian(vector_2_f,vector_2_b)\n",
    "        vector_total = overall_gradient(vector_f,vector_b)\n",
    "        # Newton's method\n",
    "        delta_x = -inv(hessian_mtx) * vector_total\n",
    "        x_new = x + delta_x\n",
    "        # Check convergence\n",
    "        if norm(delta_x) < tol\n",
    "            break\n",
    "        end\n",
    "\n",
    "        x = x_new\n",
    "        println(delta_x)\n",
    "        println(x)\n",
    "        mu *= .90  # decrease penalty for convergence\n",
    "    end\n",
    "    \n",
    "    return x\n",
    "end\n",
    "# Initial guess for time series x\n",
    "initial_x = fill(3000.0,12)  # Replace this with your initial time series\n",
    "\n",
    "# Run the interior point algorithm with Newton's method\n",
    "optimized_x = interior_point_newton(initial_x,l,d,c)\n",
    "\n",
    "println(\"Optimized x satisfying the constraints x[t] - 1.05x[t-1] <= 0 and x >= 0:\")\n",
    "println(optimized_x)"
   ]
  },
  {
   "cell_type": "code",
   "execution_count": 231,
   "id": "2ab8b37b-ccc8-4072-b8a9-2b7a61f4cf4f",
   "metadata": {},
   "outputs": [
    {
     "name": "stdout",
     "output_type": "stream",
     "text": [
      "NaN"
     ]
    }
   ],
   "source": [
    "print(objective_function(optimized_x,l,d,c))"
   ]
  },
  {
   "cell_type": "code",
   "execution_count": 211,
   "id": "db34492b-eb08-4a97-af07-49b80ce14897",
   "metadata": {},
   "outputs": [
    {
     "name": "stdout",
     "output_type": "stream",
     "text": [
      "[78.21200753250946, 89.90000000000002, 89.90000000000002, 89.90000000000002, 116.94999999999999, 114.94999999999999, 113.61666666666666, 111.78660130000002, 99.7495699, 75.25, 73.44393939333334, 72.32215686]"
     ]
    }
   ],
   "source": [
    "print(c)"
   ]
  }
 ],
 "metadata": {
  "kernelspec": {
   "display_name": "Julia 1.9.3",
   "language": "julia",
   "name": "julia-1.9"
  },
  "language_info": {
   "file_extension": ".jl",
   "mimetype": "application/julia",
   "name": "julia",
   "version": "1.9.3"
  }
 },
 "nbformat": 4,
 "nbformat_minor": 5
}
