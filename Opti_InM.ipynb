{
 "cells": [
  {
   "cell_type": "code",
   "execution_count": 1,
   "id": "79309322-4e3b-48de-8d4a-f867a1db77c2",
   "metadata": {},
   "outputs": [],
   "source": [
    "using LinearAlgebra,CSV, DataFrames"
   ]
  },
  {
   "cell_type": "code",
   "execution_count": 6,
   "id": "6f9a2858-4878-4078-b362-ea8f73d8c421",
   "metadata": {},
   "outputs": [],
   "source": [
    "retail = \"./Data/generated_data_complete.csv\" #468×13 DataFrame\n",
    "retail = DataFrame(CSV.File(retail));\n",
    "num_rows = size(retail)[1] # 676\n",
    "num_product = length(unique(retail[!,\"product_id\"])) # 52\n",
    "demand = retail[!,\"customers\"]\n",
    "cost = retail[!,\"freight_price\"]\n",
    "\n",
    "C1 = retail[!,\"comp_1\"]\n",
    "C2 = retail[!,\"comp_2\"]\n",
    "C3 = retail[!,\"comp_3\"]\n",
    "\n",
    "com1_cost = retail[!,\"fp1\"]\n",
    "com2_cost = retail[!,\"fp2\"]\n",
    "com3_cost = retail[!,\"fp3\"];"
   ]
  },
  {
   "cell_type": "code",
   "execution_count": 32,
   "id": "325f51db-7a7a-4a54-90c3-0ffa84ff7e6f",
   "metadata": {},
   "outputs": [],
   "source": [
    "ori_price = retail[!,\"unit_price\"]\n",
    "ori_price = reshape(ori_price, 12, 39)  # Reshape by column (12 columns, 39 rows)\n",
    "ori_price = permutedims(ori_price);"
   ]
  },
  {
   "cell_type": "code",
   "execution_count": 7,
   "id": "352fd356-2992-4ef9-8860-5b7c31b1e16e",
   "metadata": {},
   "outputs": [],
   "source": [
    "demand = reshape(demand, 12, 39)  # Reshape by column (12 columns, 39 rows)\n",
    "demand = permutedims(demand)  # Reshape by row\n",
    "\n",
    "cost = reshape(cost, 12, 39)  # Reshape by column (12 columns, 39 rows)\n",
    "cost = permutedims(cost)  # Reshape by row\n",
    "\n",
    "C1 = reshape(C1, 12, 39)  # Reshape by column (12 columns, 39 rows)\n",
    "C1 = permutedims(C1)  # Reshape by row\n",
    "\n",
    "C2 = reshape(C2, 12, 39)  # Reshape by column (12 columns, 39 rows)\n",
    "C2 = permutedims(C2)  # Reshape by row\n",
    "\n",
    "C3 = reshape(C3, 12, 39)  # Reshape by column (12 columns, 39 rows)\n",
    "C3 = permutedims(C3);  # Reshape by row"
   ]
  },
  {
   "cell_type": "code",
   "execution_count": 8,
   "id": "39551d5a-fa7b-4000-99c8-3d7a33a0b4df",
   "metadata": {},
   "outputs": [],
   "source": [
    "# Test on 1 product (12 months)"
   ]
  },
  {
   "cell_type": "code",
   "execution_count": 78,
   "id": "f36c3838-3595-4f3d-b3af-6f7d83ddb52c",
   "metadata": {},
   "outputs": [
    {
     "data": {
      "text/plain": [
       "geting_cost (generic function with 1 method)"
      ]
     },
     "execution_count": 78,
     "metadata": {},
     "output_type": "execute_result"
    }
   ],
   "source": [
    "function geting_cost(C1,C2,C3)\n",
    "        average_cost = (C1 .+ C2 .+ C3) ./ 3\n",
    "    return average_cost\n",
    "end"
   ]
  },
  {
   "cell_type": "code",
   "execution_count": 79,
   "id": "5867e3fb-aaa0-40bf-863f-331390c6e6e0",
   "metadata": {},
   "outputs": [],
   "source": [
    "c= geting_cost(C1[1,:],C2[1,:],C3[1,:]);\n",
    "l=cost[1, :]\n",
    "d=demand[1, :];"
   ]
  },
  {
   "cell_type": "code",
   "execution_count": 80,
   "id": "4cbd1ebe-ce4c-4748-993a-0c303052759a",
   "metadata": {},
   "outputs": [
    {
     "data": {
      "text/plain": [
       "constraint_ineq (generic function with 1 method)"
      ]
     },
     "execution_count": 80,
     "metadata": {},
     "output_type": "execute_result"
    }
   ],
   "source": [
    "# Constraint: x[t] - 1.05 * x[t-1] <= 0\n",
    "function constraint_ineq(x)\n",
    "    constraints = []\n",
    "    for i in 2:length(x)\n",
    "        push!(constraints, x[i] - 1.05 * x[i-1])\n",
    "    end\n",
    "    return constraints\n",
    "end"
   ]
  },
  {
   "cell_type": "code",
   "execution_count": 81,
   "id": "a7409ebe-6780-4012-a03e-ec4c602f5a25",
   "metadata": {},
   "outputs": [
    {
     "data": {
      "text/plain": [
       "constraint_x_positive (generic function with 1 method)"
      ]
     },
     "execution_count": 81,
     "metadata": {},
     "output_type": "execute_result"
    }
   ],
   "source": [
    "# Constraint: x >= 0\n",
    "function constraint_x_positive(x)\n",
    "    return x\n",
    "end"
   ]
  },
  {
   "cell_type": "code",
   "execution_count": 129,
   "id": "40b5231c-5180-4fe8-9e3c-5e9311966bf9",
   "metadata": {},
   "outputs": [
    {
     "data": {
      "text/plain": [
       "gradient_2_f (generic function with 1 method)"
      ]
     },
     "execution_count": 129,
     "metadata": {},
     "output_type": "execute_result"
    }
   ],
   "source": [
    "# Gradient computation\n",
    "function gradient_f(x, l, d, c)\n",
    "    grad = similar(x)\n",
    "    #print(grad)\n",
    "    for i in eachindex(x)\n",
    "        grad[i] = (d[i]*exp(-6x[i]/c[i])*(c[i]+6l[i]-6x[i]))/c[i]\n",
    "    end\n",
    "    #print(\"endgrad\")\n",
    "    return grad\n",
    "end\n",
    "\n",
    "function gradient_2_f(x, l, d, c)\n",
    "    grad = similar(x)\n",
    "    for i in eachindex(x)\n",
    "        grad[i] = -(12*d[i]*exp(-6x[i]/c[i])*(c[i]+3l[i]-3x[i]))/c[i]^2\n",
    "    end\n",
    "    #print(\"endgrad\")\n",
    "    return grad\n",
    "end"
   ]
  },
  {
   "cell_type": "code",
   "execution_count": 124,
   "id": "d393ccef-57df-4b76-9d5e-c91008fa7baa",
   "metadata": {},
   "outputs": [
    {
     "data": {
      "text/plain": [
       "gradient_2_g (generic function with 1 method)"
      ]
     },
     "execution_count": 124,
     "metadata": {},
     "output_type": "execute_result"
    }
   ],
   "source": [
    "function gradient_g(x,mu)\n",
    "    grad = similar(x)\n",
    "    for i in eachindex(x)\n",
    "        if i == 1\n",
    "            grad[i] = -mu*(1/x[i])\n",
    "        else\n",
    "            grad[i] = -mu*(1/(1.05x[i-1]-x[i]))\n",
    "        end\n",
    "    end\n",
    "    #print(\"endgrad\")\n",
    "    return grad\n",
    "end\n",
    "\n",
    "function gradient_2_g(x,mu)\n",
    "    grad = similar(x)\n",
    "    for i in eachindex(x)\n",
    "        if i == 1\n",
    "            grad[i] = u*(1/x[i]^2)\n",
    "        else\n",
    "            grad[i] = mu*(1/(1.05x[i-1]-x[i])^2)\n",
    "        end\n",
    "    end\n",
    "    return grad\n",
    "end"
   ]
  },
  {
   "cell_type": "code",
   "execution_count": 176,
   "id": "b74aa306-097a-452e-bfea-4b2f8b6eb29b",
   "metadata": {},
   "outputs": [
    {
     "data": {
      "text/plain": [
       "objective_function (generic function with 1 method)"
      ]
     },
     "execution_count": 176,
     "metadata": {},
     "output_type": "execute_result"
    }
   ],
   "source": [
    "# Objective function: f(x) = (x - l) * d * (exp(-x / c))^2\n",
    "function objective_function(x, l, d, c)\n",
    "    result = 0\n",
    "    for i in eachindex(x)\n",
    "        result += ((x[i] - l[i]) * d[i] * (exp(-x[i] / c[i]))^2)\n",
    "    end\n",
    "    return result\n",
    "end"
   ]
  },
  {
   "cell_type": "code",
   "execution_count": 43,
   "id": "860d19a8-84f2-4505-83a6-65aaeca15da9",
   "metadata": {},
   "outputs": [
    {
     "data": {
      "text/plain": [
       "hessian (generic function with 1 method)"
      ]
     },
     "execution_count": 43,
     "metadata": {},
     "output_type": "execute_result"
    }
   ],
   "source": [
    "# Hessian computation\n",
    "function hessian(grad_2_f,grad_2_g)\n",
    "    #print(\" hes \")\n",
    "    n = length(grad_2_f)\n",
    "    hess = zeros(n, n)\n",
    "    for i in 1:n\n",
    "        for j in 1:n\n",
    "            if i==j\n",
    "            hess[i,j] = grad_2_f[i]+grad_2_g[i]\n",
    "            end\n",
    "        end\n",
    "    end\n",
    "    #print(\" hes_end \")\n",
    "    return hess\n",
    "end"
   ]
  },
  {
   "cell_type": "code",
   "execution_count": 44,
   "id": "7d8458a9-bb4e-47dc-9cfe-5dbf6b24feec",
   "metadata": {},
   "outputs": [
    {
     "data": {
      "text/plain": [
       "overall_gradient (generic function with 1 method)"
      ]
     },
     "execution_count": 44,
     "metadata": {},
     "output_type": "execute_result"
    }
   ],
   "source": [
    "# Hessian computation\n",
    "function overall_gradient(grad_f,grad_g)\n",
    "    grad = similar(grad_f)\n",
    "    n = length(grad)\n",
    "    for i in 1:n\n",
    "        grad[i] = grad_f[i]+grad_g[i]\n",
    "    end\n",
    "    #print(\" over-grad \")\n",
    "    return grad\n",
    "end"
   ]
  },
  {
   "cell_type": "code",
   "execution_count": 214,
   "id": "653a6030-528c-4d5b-a7af-bed9f2edeb5b",
   "metadata": {},
   "outputs": [
    {
     "data": {
      "text/plain": [
       "interior_point_newton (generic function with 3 methods)"
      ]
     },
     "execution_count": 214,
     "metadata": {},
     "output_type": "execute_result"
    }
   ],
   "source": [
    "# Interior point Newton's method\n",
    "function interior_point_newton(x0, l, d, c, tol=1e-6, max_iter=200)\n",
    "    x = copy(x0)  # Initial feasible solution\n",
    "    mu = 1.0  # Penalty parameter\n",
    "    \n",
    "    for _ in 1:max_iter\n",
    "        # Augmented Lagrangian function\n",
    "        vector_f = gradient_f(x,l,d,c)\n",
    "        #print(\"vector_f\", vector_f)\n",
    "        vector_b = gradient_g(x,mu)\n",
    "        #print(\"vector_b\", vector_b)\n",
    "        vector_2_f = gradient_2_f(x,d,l,c)\n",
    "        vector_2_b = gradient_2_g(x,mu)\n",
    "        hessian_mtx=hessian(vector_2_f,vector_2_b)\n",
    "        #print(vector_f)\n",
    "        vector_total = overall_gradient(vector_f,vector_b)\n",
    "        # Newton's method\n",
    "        delta_x = -inv(hessian_mtx) * vector_total\n",
    "        x_new = x + delta_x\n",
    "        # Check convergence\n",
    "        if norm(delta_x) < tol\n",
    "            break\n",
    "        end\n",
    "\n",
    "        x = x_new\n",
    "        mu *= .90  # Increase penalty for convergence\n",
    "    end\n",
    "    \n",
    "    return x\n",
    "end\n",
    "# Initial guess for time series x\n",
    "#initial_x = zeros(Float64, length(d))  # Replace this with your initial time series"
   ]
  },
  {
   "cell_type": "code",
   "execution_count": 222,
   "id": "09058806-92eb-4da6-a7e6-124f0f6c386f",
   "metadata": {},
   "outputs": [],
   "source": [
    "my_vector = fill(100.0, 12);"
   ]
  },
  {
   "cell_type": "code",
   "execution_count": 223,
   "id": "2ab8b37b-ccc8-4072-b8a9-2b7a61f4cf4f",
   "metadata": {},
   "outputs": [
    {
     "name": "stdout",
     "output_type": "stream",
     "text": [
      "optimial: [28.958756485305372, 25.56876493850487, 25.044022713390458, 29.210651653204753, 34.59166485402468, 32.0916680465279, 33.696251611019115, 32.91860194433948, 31.72493092008346, 25.20000112645849, 25.330711842636312, 24.589352307471092]\n"
     ]
    }
   ],
   "source": [
    "initial_x = ori_price[1,:]\n",
    "# Run the interior point algorithm with Newton's method\n",
    "optimized_x = interior_point_newton(my_vector,l,d,c)\n",
    "println(\"optimial: \", optimized_x)"
   ]
  },
  {
   "cell_type": "code",
   "execution_count": 206,
   "id": "98fc4990-9f9c-4785-a613-d922e4220f3a",
   "metadata": {},
   "outputs": [
    {
     "name": "stdout",
     "output_type": "stream",
     "text": [
      "intitial price[41.26681876660176, 41.61653094215304, 43.60909154298178, 45.75775106815832, 45.95, 45.95, 45.95, 45.95, 45.95, 45.95, 40.53181818, 39.99]\n",
      "optimal price: [3.961408125713219e33, 2.0797392659994403e33, 1.0918631146497063e33, 5.732281351910959e32, 3.0094477097532534e32, 1.579960047620458e32, 8.294790250007407e31, 4.354764881253889e31, 2.286251562658291e31, 1.200282070395603e31, 6.301480869576917e30, 3.308277456527882e30]"
     ]
    }
   ],
   "source": [
    "print(\"intitial price\" , initial_x)\n",
    "print(\"\\n\")\n",
    "print(\"optimal price: \", optimized_x)"
   ]
  },
  {
   "cell_type": "code",
   "execution_count": null,
   "id": "e8b0ef72-5399-4da2-a77a-32f1dc47a8c7",
   "metadata": {},
   "outputs": [],
   "source": []
  },
  {
   "cell_type": "code",
   "execution_count": 201,
   "id": "0a6d82a8-158f-473d-acf9-5f3b06a9230d",
   "metadata": {},
   "outputs": [
    {
     "name": "stdout",
     "output_type": "stream",
     "text": [
      "6664.095364456399"
     ]
    }
   ],
   "source": [
    "print(objective_function(optimized_x,l,d,c))"
   ]
  },
  {
   "cell_type": "code",
   "execution_count": 185,
   "id": "f2f67ddb-8dca-407b-b58b-2df28f580433",
   "metadata": {},
   "outputs": [
    {
     "data": {
      "text/plain": [
       "objective_function2 (generic function with 1 method)"
      ]
     },
     "execution_count": 185,
     "metadata": {},
     "output_type": "execute_result"
    }
   ],
   "source": [
    "function objective_function2(x, l, d, c)\n",
    "    result = 0\n",
    "    for i in eachindex(x)\n",
    "        result += ((x[i] - l[i]) * d[i] * (exp(-x[i] / c[i]))^2)\n",
    "        println(result)\n",
    "    end\n",
    "    return result\n",
    "end"
   ]
  }
 ],
 "metadata": {
  "kernelspec": {
   "display_name": "Julia 1.9.3",
   "language": "julia",
   "name": "julia-1.9"
  },
  "language_info": {
   "file_extension": ".jl",
   "mimetype": "application/julia",
   "name": "julia",
   "version": "1.9.3"
  }
 },
 "nbformat": 4,
 "nbformat_minor": 5
}
